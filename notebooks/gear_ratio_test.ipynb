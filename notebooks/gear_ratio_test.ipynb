{
 "cells": [
  {
   "cell_type": "code",
   "execution_count": 1,
   "id": "13f8f1fb",
   "metadata": {},
   "outputs": [],
   "source": [
    "from drivecycle import route, trajectory, utils, plots, graph, energy"
   ]
  },
  {
   "cell_type": "code",
   "execution_count": 71,
   "id": "b5b92e00",
   "metadata": {},
   "outputs": [
    {
     "name": "stdout",
     "output_type": "stream",
     "text": [
      "Torque wheel: 50.0\n",
      "Torque motor: 10.526315789473685\n",
      "Omega wheel: 20.0\n",
      "Omega motor: 100.0\n",
      "Power: 1166.3507799970844\n"
     ]
    }
   ],
   "source": [
    "v = 10\n",
    "force = 100\n",
    "gear_ratio = 5\n",
    "radius_wheel = 0.5\n",
    "regen_ratio = 0.5\n",
    "trans_eff = 0.95\n",
    "motor_eff = 0.95\n",
    "pow_conv_eff = 0.95\n",
    "\n",
    "\n",
    "if force<0:\n",
    "    force = force*regen_ratio\n",
    "\n",
    "torque_wheel = force * radius_wheel #torque at the wheel\n",
    "\n",
    "print(f'Torque wheel: {torque_wheel}')\n",
    "\n",
    "torque_motor = torque_wheel/(gear_ratio* trans_eff) # torque at the motor\n",
    "\n",
    "print(f'Torque motor: {torque_motor}')\n",
    "\n",
    "omega_wheel = v/radius_wheel #angular velocity of the wheel\n",
    "\n",
    "print(f'Omega wheel: {omega_wheel}')\n",
    "\n",
    "omega_motor = omega_wheel * gear_ratio #angular velocity of motor\n",
    "\n",
    "print(f'Omega motor: {omega_motor}')\n",
    "\n",
    "power = (torque_motor * omega_motor)/(motor_eff*pow_conv_eff) #Power in Watts\n",
    "\n",
    "print(f'Power: {power}')"
   ]
  },
  {
   "cell_type": "code",
   "execution_count": null,
   "id": "470d30eb",
   "metadata": {},
   "outputs": [],
   "source": []
  }
 ],
 "metadata": {
  "kernelspec": {
   "display_name": "Python 3 (ipykernel)",
   "language": "python",
   "name": "python3"
  },
  "language_info": {
   "codemirror_mode": {
    "name": "ipython",
    "version": 3
   },
   "file_extension": ".py",
   "mimetype": "text/x-python",
   "name": "python",
   "nbconvert_exporter": "python",
   "pygments_lexer": "ipython3",
   "version": "3.8.12"
  }
 },
 "nbformat": 4,
 "nbformat_minor": 5
}
