{
 "cells": [
  {
   "cell_type": "code",
   "execution_count": 1,
   "id": "6da8cd81",
   "metadata": {
    "scrolled": true
   },
   "outputs": [],
   "source": [
    "from drivecycle import drivecycle, trajectory\n",
    "from drivecycle.utils import utils, plots\n",
    "\n",
    "import matplotlib.pyplot as plt\n",
    "import networkx as nx\n",
    "\n",
    "import requests\n",
    "import polyline\n",
    "import json\n",
    "import pandas as pd\n",
    "import numpy as np"
   ]
  },
  {
   "cell_type": "code",
   "execution_count": 4,
   "id": "621e6f01",
   "metadata": {},
   "outputs": [
    {
     "name": "stdout",
     "output_type": "stream",
     "text": [
      "http://transit.land/api/v1/route_stop_patterns.geojson?onestop_id=r-c3nf-1-702631-be6946&api_key=SN0N9PZyDIDrOf9tcm3DS1t8sbqZi1Ul\n"
     ]
    }
   ],
   "source": [
    "onestop_id = \"r-c3nf-1-702631-be6946\"\n",
    "api_key = \"SN0N9PZyDIDrOf9tcm3DS1t8sbqZi1Ul\"\n",
    "\n",
    "url = f\"http://transit.land/api/v1/route_stop_patterns.geojson?onestop_id={onestop_id}&api_key={api_key}\"\n",
    "\n",
    "print(url)\n",
    "\n",
    "r = requests.get(url).json()\n",
    "\n",
    "stops = r[\"features\"][0][\"properties\"][\"stop_distances\"]\n",
    "coords = [tuple((i[1],i[0])) for i in r[\"features\"][0][\"geometry\"][\"coordinates\"]]\n",
    "\n",
    "b = polyline.encode(coords, 6)\n",
    "\n",
    "url_trace = \"http://localhost:8002/trace_attributes\" \n",
    "data =json.dumps({\"encoded_polyline\":b,\"costing\":\"auto\",\"filters\":{\"attributes\":[\"edge.way_id\",\"edge.names\",\"edge.length\",\"edge.speed\",\"node.intersecting_edge.road_class\",\"node.intersecting_edge.begin_heading\",\"node.elapsed_time\",\"node.type\"],\"action\":\"include\"}})\n",
    "\n",
    "trace = requests.post(url_trace, data=data)\n",
    "edges = trace.json()[\"edges\"]\n",
    "\n",
    "# edges"
   ]
  },
  {
   "cell_type": "code",
   "execution_count": 7,
   "id": "dc583ab9",
   "metadata": {},
   "outputs": [
    {
     "ename": "NameError",
     "evalue": "name 'pickle' is not defined",
     "output_type": "error",
     "traceback": [
      "\u001b[0;31m---------------------------------------------------------------------------\u001b[0m",
      "\u001b[0;31mNameError\u001b[0m                                 Traceback (most recent call last)",
      "\u001b[0;32m/tmp/ipykernel_15301/117034835.py\u001b[0m in \u001b[0;36m<module>\u001b[0;34m\u001b[0m\n\u001b[1;32m      2\u001b[0m \u001b[0;34m\u001b[0m\u001b[0m\n\u001b[1;32m      3\u001b[0m \u001b[0;32mwith\u001b[0m \u001b[0mopen\u001b[0m\u001b[0;34m(\u001b[0m\u001b[0;34m'stops'\u001b[0m\u001b[0;34m,\u001b[0m \u001b[0;34m'wb'\u001b[0m\u001b[0;34m)\u001b[0m \u001b[0;32mas\u001b[0m \u001b[0mhandle\u001b[0m\u001b[0;34m:\u001b[0m\u001b[0;34m\u001b[0m\u001b[0;34m\u001b[0m\u001b[0m\n\u001b[0;32m----> 4\u001b[0;31m     \u001b[0mpickle\u001b[0m\u001b[0;34m.\u001b[0m\u001b[0mdump\u001b[0m\u001b[0;34m(\u001b[0m\u001b[0mstops\u001b[0m\u001b[0;34m,\u001b[0m \u001b[0mhandle\u001b[0m\u001b[0;34m,\u001b[0m \u001b[0mprotocol\u001b[0m\u001b[0;34m=\u001b[0m\u001b[0mpickle\u001b[0m\u001b[0;34m.\u001b[0m\u001b[0mHIGHEST_PROTOCOL\u001b[0m\u001b[0;34m)\u001b[0m\u001b[0;34m\u001b[0m\u001b[0;34m\u001b[0m\u001b[0m\n\u001b[0m",
      "\u001b[0;31mNameError\u001b[0m: name 'pickle' is not defined"
     ]
    }
   ],
   "source": [
    "stops = [i for i in stops if i!=0]\n"
   ]
  },
  {
   "cell_type": "code",
   "execution_count": null,
   "id": "2f94338e",
   "metadata": {},
   "outputs": [],
   "source": [
    "data_ = []\n",
    "for edge in edges:\n",
    "    length = edge[\"length\"]*1000\n",
    "    speed = edge[\"speed\"]\n",
    "    way_id = edge[\"way_id\"]\n",
    "    try:\n",
    "        intersect = [edge[\"end_node\"][\"intersecting_edges\"][0][\"road_class\"]]\n",
    "    except:\n",
    "        intersect = [None]\n",
    "\n",
    "    item = {\n",
    "        \"way_id\":way_id,\n",
    "        \"length\":length,\n",
    "        \"speed\":speed,\n",
    "        \"intersection\":intersect,\n",
    "    }\n",
    "    data_.append(item)"
   ]
  },
  {
   "cell_type": "code",
   "execution_count": null,
   "id": "5924a96f",
   "metadata": {},
   "outputs": [],
   "source": [
    "data_"
   ]
  },
  {
   "cell_type": "code",
   "execution_count": null,
   "id": "ffbb0a37",
   "metadata": {},
   "outputs": [],
   "source": [
    "a = utils.Graph(data_)\n",
    "c = a.get_source_target()\n",
    "b = utils.include_stops(a.simplify_graph(),stops) \n",
    "\n",
    "simple_edges = utils.get_edges(b,c)"
   ]
  },
  {
   "cell_type": "code",
   "execution_count": null,
   "id": "71ff932e",
   "metadata": {},
   "outputs": [],
   "source": [
    "simple_edges = [i for i in simple_edges if i[\"length\"]>10]"
   ]
  },
  {
   "cell_type": "code",
   "execution_count": null,
   "id": "65609b71",
   "metadata": {
    "scrolled": false
   },
   "outputs": [],
   "source": [
    "simple_edges"
   ]
  },
  {
   "cell_type": "code",
   "execution_count": null,
   "id": "f00759bc",
   "metadata": {
    "scrolled": false
   },
   "outputs": [],
   "source": [
    "stop={\"bus_stop\":30,\"tertiary\":10}\n",
    "dc = drivecycle.Drivecycle(simple_edges,stops=stop, stop_at_node=True, step=1)\n",
    "traj = dc.get_trajectory()"
   ]
  },
  {
   "cell_type": "code",
   "execution_count": null,
   "id": "916372b3",
   "metadata": {
    "scrolled": true
   },
   "outputs": [],
   "source": [
    "plots.plot_vd(traj,\"test.png\")"
   ]
  },
  {
   "cell_type": "code",
   "execution_count": null,
   "id": "b5a487e3",
   "metadata": {},
   "outputs": [],
   "source": []
  }
 ],
 "metadata": {
  "kernelspec": {
   "display_name": "Python 3 (ipykernel)",
   "language": "python",
   "name": "python3"
  },
  "language_info": {
   "codemirror_mode": {
    "name": "ipython",
    "version": 3
   },
   "file_extension": ".py",
   "mimetype": "text/x-python",
   "name": "python",
   "nbconvert_exporter": "python",
   "pygments_lexer": "ipython3",
   "version": "3.8.12"
  }
 },
 "nbformat": 4,
 "nbformat_minor": 5
}
